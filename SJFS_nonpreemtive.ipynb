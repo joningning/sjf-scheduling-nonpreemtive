{
 "cells": [
  {
   "cell_type": "markdown",
   "id": "bafee061-217f-4bbb-aec2-19392f61973e",
   "metadata": {},
   "source": [
    "# Shortest Job First Scheduling Algorithm Nonpreemtive\n",
    "### by Isabel Joy Adriatico, Tricia Jonina Alcisto"
   ]
  },
  {
   "cell_type": "markdown",
   "id": "e50b5792-0d11-45fc-a197-1ed4b21124fe",
   "metadata": {},
   "source": [
    "##### Input: Collects the number of processes and their arrival_time and burst_time.\n",
    "##### SJF Calculation: Calls calculate_sjf_non_preemptive to execute the scheduling.\n",
    "##### Display: Shows the Gantt chart and process summary.\n",
    "##### Average Waiting Time: Calculates and prints the average waiting time."
   ]
  },
  {
   "cell_type": "markdown",
   "id": "33b49eb7-346f-4db3-b482-29e8370fe33d",
   "metadata": {},
   "source": [
    "This algorithm dynamically selects the shortest job ready at the current time.\n",
    "It optimizes the average waiting time by executing shorter tasks first, as long as they have arrived.\n",
    "Processes are selected based on the shortest burst time from the ready queue (processes that have arrived by the current time).\n",
    "If no process is ready, the CPU idles until the next process arrives."
   ]
  },
  {
   "cell_type": "code",
   "execution_count": 16,
   "id": "1704cc59-fa63-45ad-afe8-ea11aedafc39",
   "metadata": {},
   "outputs": [],
   "source": [
    "import matplotlib.pyplot as plt"
   ]
  },
  {
   "cell_type": "markdown",
   "id": "826a99de-d61e-489e-98de-63e439226396",
   "metadata": {},
   "source": [
    "#### Process\n",
    "##### Purpose: This Process class defines the attributes for each process. "
   ]
  },
  {
   "cell_type": "code",
   "execution_count": 17,
   "id": "56908feb-31fc-424f-b196-7fdfc40c14fc",
   "metadata": {},
   "outputs": [],
   "source": [
    "class Process:\n",
    "    def __init__(self, pid, arrival_time, burst_time):\n",
    "        self.pid = pid\n",
    "        self.arrival_time = arrival_time\n",
    "        self.burst_time = burst_time\n",
    "        self.completion_time = 0\n",
    "        self.turnaround_time = 0\n",
    "        self.waiting_time = 0"
   ]
  },
  {
   "cell_type": "markdown",
   "id": "a3e96af4-f24b-4590-8f8c-4b7917954300",
   "metadata": {},
   "source": [
    "#### calculate_sjf_non_preemptive\n",
    "##### Purpose: Implements the SJF non-preemptive scheduling."
   ]
  },
  {
   "cell_type": "code",
   "execution_count": 18,
   "id": "f4b44919-73bd-4905-aa48-c5cb5131a0e4",
   "metadata": {},
   "outputs": [],
   "source": [
    "def calculate_sjf_non_preemptive(processes):\n",
    "    processes.sort(key=lambda x: x.arrival_time)\n",
    "    current_time = 0\n",
    "    completed_processes = []\n",
    "    \n",
    "    while processes:\n",
    "        ready_queue = [p for p in processes if p.arrival_time <= current_time]\n",
    "        \n",
    "        if not ready_queue:\n",
    "            current_time = min(processes, key=lambda x: x.arrival_time).arrival_time\n",
    "            ready_queue = [p for p in processes if p.arrival_time <= current_time]\n",
    "        \n",
    "        shortest_job = min(ready_queue, key=lambda x: x.burst_time)\n",
    "\n",
    "        shortest_job.start_time = current_time\n",
    "        current_time = max(current_time, shortest_job.arrival_time) + shortest_job.burst_time\n",
    "        \n",
    "        shortest_job.completion_time = current_time\n",
    "        shortest_job.turnaround_time = shortest_job.completion_time - shortest_job.arrival_time\n",
    "        \n",
    "        shortest_job.waiting_time = shortest_job.start_time - shortest_job.arrival_time\n",
    " \n",
    "        completed_processes.append(shortest_job)\n",
    "        processes.remove(shortest_job)\n",
    "    \n",
    "    return completed_processes"
   ]
  },
  {
   "cell_type": "markdown",
   "id": "8abc35ee-2a16-405c-b3f6-40b378d6f7ba",
   "metadata": {},
   "source": [
    "### Gantt chart, process summary, and average waiting time are displayed."
   ]
  },
  {
   "cell_type": "code",
   "execution_count": 19,
   "id": "1cf66940-1b21-4ece-8688-5fcbba6c22b9",
   "metadata": {},
   "outputs": [
    {
     "name": "stdin",
     "output_type": "stream",
     "text": [
      "Enter the number of processes:  5\n",
      "Enter arrival time for process A:  0\n",
      "Enter burst time for process A:  8\n",
      "Enter arrival time for process B:  3\n",
      "Enter burst time for process B:  4\n",
      "Enter arrival time for process C:  4\n",
      "Enter burst time for process C:  5\n",
      "Enter arrival time for process D:  6\n",
      "Enter burst time for process D:  3\n",
      "Enter arrival time for process E:  10\n",
      "Enter burst time for process E:  2\n"
     ]
    },
    {
     "data": {
      "image/png": "[encoded data removed]",
      "text/plain": [
       "<Figure size 1000x600 with 1 Axes>"
      ]
     },
     "metadata": {},
     "output_type": "display_data"
    },
    {
     "name": "stdout",
     "output_type": "stream",
     "text": [
      "\n",
      "Process Summary:\n",
      "Process\tArrival Time\tBurst Time\tCompletion Time\tTurnaround Time\tWaiting Time\n",
      "A\t0\t\t8\t\t8\t\t8\t\t0\n",
      "D\t6\t\t3\t\t11\t\t5\t\t2\n",
      "E\t10\t\t2\t\t13\t\t3\t\t1\n",
      "B\t3\t\t4\t\t17\t\t14\t\t10\n",
      "C\t4\t\t5\t\t22\t\t18\t\t13\n",
      "\n",
      "Average Waiting Time: 5.20 ms\n"
     ]
    }
   ],
   "source": [
    "def display_gantt_chart(processes):\n",
    "    start_times = []\n",
    "    process_names = []\n",
    "    for process in processes:\n",
    "        start_times.append(process.start_time)\n",
    "        process_names.append(process.pid)\n",
    "    \n",
    "    plt.figure(figsize=(10, 6))\n",
    "    plt.barh(process_names, [p.burst_time for p in processes], left=start_times, color='skyblue', edgecolor='black')\n",
    "    plt.xlabel(\"Time\")\n",
    "    plt.ylabel(\"Processes\")\n",
    "    plt.title(\"nonpreemtive scheduling Grantt chart\")\n",
    "    plt.grid(axis='x')\n",
    "    \n",
    "    for i, process in enumerate(processes):\n",
    "        plt.text(start_times[i] + process.burst_time / 2, i, str(start_times[i]), ha='center', va='center', color='black')\n",
    "    \n",
    "    plt.show()\n",
    "\n",
    "def print_process_summary(processes):\n",
    "    print(\"\\nProcess Summary:\")\n",
    "    print(\"Process\\tArrival Time\\tBurst Time\\tCompletion Time\\tTurnaround Time\\tWaiting Time\")\n",
    "    for process in processes:\n",
    "        print(f\"{process.pid}\\t{process.arrival_time}\\t\\t{process.burst_time}\\t\\t{process.completion_time}\\t\\t{process.turnaround_time}\\t\\t{process.waiting_time}\")\n",
    "\n",
    "def calculate_average_waiting_time(processes):\n",
    "    total_waiting_time = sum(process.waiting_time for process in processes)\n",
    "    average_waiting_time = total_waiting_time / len(processes)\n",
    "    return average_waiting_time\n",
    "\n",
    "def main():\n",
    "    processes = []\n",
    "    n = int(input(\"Enter the number of processes: \"))\n",
    "    \n",
    "    for i in range(n):\n",
    "        pid = chr(65 + i)  # Process ID but like ascii\n",
    "        arrival_time = int(input(f\"Enter arrival time for process {pid}: \"))\n",
    "        burst_time = int(input(f\"Enter burst time for process {pid}: \"))\n",
    "        processes.append(Process(pid, arrival_time, burst_time))\n",
    "\n",
    "    completed_processes = calculate_sjf_non_preemptive(processes)\n",
    "    display_gantt_chart(completed_processes)\n",
    "    print_process_summary(completed_processes)\n",
    "\n",
    "    avg_waiting_time = calculate_average_waiting_time(completed_processes)\n",
    "    print(f\"\\nAverage Waiting Time: {avg_waiting_time:.2f} ms\")\n",
    "\n",
    "if __name__ == \"__main__\":\n",
    "    main()"
   ]
  },
  {
   "cell_type": "code",
   "execution_count": null,
   "id": "a5dcdbb8-9a95-4fe9-a9df-aea2ea87118f",
   "metadata": {},
   "outputs": [],
   "source": []
  }
 ],
 "metadata": {
  "kernelspec": {
   "display_name": "Python 3 (ipykernel)",
   "language": "python",
   "name": "python3"
  },
  "language_info": {
   "codemirror_mode": {
    "name": "ipython",
    "version": 3
   },
   "file_extension": ".py",
   "mimetype": "text/x-python",
   "name": "python",
   "nbconvert_exporter": "python",
   "pygments_lexer": "ipython3",
   "version": "3.11.5"
  }
 },
 "nbformat": 4,
 "nbformat_minor": 5
}
